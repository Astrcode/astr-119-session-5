{
 "cells":[
{
	"cell_type":"code",
	"execution_count": null,
	"metadata":{}
	"outputs":[],
	"source":[
	"import numpy as np"
	]
},
{
"cell_type":"code",
"execution_count": null,
"metadata":{}
"outputs":[],
"source":[
"n =10 								#define an integer 10\n",
"x = np.arange(d,dtype=float)		#define an array x=[0,9]"
]
},
}
